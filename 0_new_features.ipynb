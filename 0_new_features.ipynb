{
 "cells": [
  {
   "cell_type": "code",
   "execution_count": 1,
   "metadata": {},
   "outputs": [],
   "source": [
    "import pandas as pd\n",
    "import numpy as np\n",
    "import numpy as np\n",
    "import pandas as pd\n",
    "from joblib import Parallel, delayed\n",
    "import time\n",
    "\n",
    "df_train_raw = pd.read_csv('data/train.csv')\n",
    "df_test_raw = pd.read_csv('data/test.csv')\n",
    "\n",
    "def preprocess_init(df_train, df_test, bool_features):\n",
    "\n",
    "    df = pd.concat([df_train, df_test], sort=True)\n",
    "\n",
    "    df['days'] = np.select([df['locdt']<=30, [(df['locdt']>30) & (df['locdt']<=60)] , [(df['locdt']>60) & (df['locdt']<=90)], [(df['locdt']>90) & (df['locdt']<=120)]],[30,60,90,120])[0]\n",
    "\n",
    "    df = preprocess_bool(df, bool_features)\n",
    "\n",
    "    df = df.sort_values(by = ['bacno','cano','locdt','loctm']).reset_index(drop = True)\n",
    "\n",
    "    return df\n",
    "                \n",
    "def preprocess_bool(df, bool_features):\n",
    "    \n",
    "    for feature in bool_features:\n",
    "        df[feature] = np.select([df[feature]=='Y',df[feature]=='N'],[1,0]) \n",
    "    \n",
    "    return df\n",
    "def preprocess_time(df):\n",
    "\n",
    "    df['global_time'] = loctm_to_global_time(df)\n",
    "    df['last_time_days'] = df.groupby(['cano','days'])['global_time'].diff(periods = 1)\n",
    "    df['next_time_days'] = df.groupby(['cano','days'])['global_time'].diff(periods = -1)\n",
    "\n",
    "    groups = ['cano','locdt']\n",
    "    feature = 'global_time'\n",
    "    agg_list = [np.std]\n",
    "    df = generic_groupby(df, groups, feature, agg_list)\n",
    "    \n",
    "    return df\n",
    "\n",
    "def loctm_to_global_time(df):\n",
    "    \n",
    "    df = df.copy()\n",
    "    df['loctm'] = df['loctm'].astype(str)\n",
    "    df['loctm'] = df['loctm'].str[:-2]\n",
    "    df['hours'] = df['loctm'].str[-6:-4]\n",
    "    df['hours'] = np.where(df['hours']=='', '0', df['hours']).astype(int)\n",
    "    df['minutes'] = df['loctm'].str[-4:-2]\n",
    "    df['minutes'] = np.where(df['minutes']=='', '0', df['minutes']).astype(int)\n",
    "    df['second'] = df['loctm'].str[-2:].astype(int)\n",
    "    df['loctm'] = df['hours']*60*60 + df['minutes']*60 + df['second']\n",
    "    df['global_time'] = df['locdt']*24*60*60 + df['hours']*60*60+df['minutes']*60+df['second']\n",
    "                        \n",
    "    return df['global_time']\n",
    "\n",
    "def preprocess_train_test_split(df, cat_features):\n",
    "\n",
    "\n",
    "    df_train = df[~df['fraud_ind'].isna()]\n",
    "    df_test = df[df['fraud_ind'].isna()]\n",
    "\n",
    "    # Keep the original value of some feature before replacing\n",
    "    keep_list = ['cano',\n",
    "                 'bacno',\n",
    "                 'mchno'\n",
    "                 ]\n",
    "    for keep in keep_list:\n",
    "        df_train[keep + '_original'] = df_train[keep].copy()\n",
    "    \n",
    "    for feature in cat_features:\n",
    "        test_unique = df_test[feature].unique()\n",
    "        df_train[feature] = np.where(df_train[feature].isin(test_unique), df_train[feature], np.nan)\n",
    "\n",
    "    df_test[cat_features] = df_test[cat_features].astype('category')\n",
    "    df_train[cat_features] = df_train[cat_features].astype('category')\n",
    "\n",
    "    return df_train, df_test\n",
    "def roundup(x):\n",
    "    return int(math.ceil(x / 10.0)) * 10\n",
    "\n",
    "def generic_groupby(df, group, feature, agg_list):\n",
    "    \n",
    "    df_tem = df.groupby(group)[feature].agg(agg_list).reset_index()\n",
    "    agg_list = ['std' if x==np.std else x for x in agg_list]                \n",
    "    rename_dict = dict([(x,'{}_{}_{}'.format('_'.join(group), feature, x)) for x in agg_list])\n",
    "    df_tem = df_tem.rename(columns = rename_dict)\n",
    "    df = pd.merge(df, df_tem, how = 'left', on = group)\n",
    "\n",
    "    return df\n",
    "\n",
    "def applyParallel(dfGrouped, func):\n",
    "    retLst = Parallel(n_jobs=8)(delayed(func)(group) for name, group in dfGrouped)\n",
    "    return pd.concat(retLst)"
   ]
  },
  {
   "cell_type": "code",
   "execution_count": 2,
   "metadata": {},
   "outputs": [],
   "source": [
    "raw_bool_features = ['ecfg',\n",
    "                     'flbmk',\n",
    "                     'flg_3dsmk',\n",
    "                     'insfg',\n",
    "                     'ovrlt'\n",
    "                      ]\n",
    "\n",
    "raw_categorial_features = ['contp',\n",
    "                           'stscd',\n",
    "                           'etymd',\n",
    "                           'stocn',\n",
    "                           'mcc',\n",
    "                           'csmcu',\n",
    "                           'hcefg',\n",
    "                           'bacno',\n",
    "                           'cano',\n",
    "                           'mchno',\n",
    "                           'acqic',\n",
    "                           'scity'\n",
    "                            ] \n",
    "\n",
    "raw_contiuous_feautres = ['loctm',\n",
    "                          'conam',\n",
    "                          'iterm'\n",
    "                           ]"
   ]
  },
  {
   "cell_type": "code",
   "execution_count": 3,
   "metadata": {},
   "outputs": [],
   "source": [
    "df = preprocess_init(df_train=df_train_raw, df_test=df_test_raw, bool_features=raw_bool_features)"
   ]
  },
  {
   "cell_type": "code",
   "execution_count": 4,
   "metadata": {},
   "outputs": [],
   "source": [
    "df = preprocess_time(df)"
   ]
  },
  {
   "cell_type": "code",
   "execution_count": 5,
   "metadata": {},
   "outputs": [],
   "source": [
    "#　先製作出絕對時間\n",
    "df['absolute_time'] =df[['global_time']]+3600*16-29#常數是為了控制時間從０點開始\n",
    "# min : 1970-01-03 00:00:00 , max : 1970-05-02 23:59:16"
   ]
  },
  {
   "cell_type": "code",
   "execution_count": 6,
   "metadata": {},
   "outputs": [],
   "source": [
    "#絕對時間轉換成date time 格式\n",
    "abt = []\n",
    "bt = df['absolute_time'].values.tolist()\n",
    "for i in range(len(bt)):\n",
    "    t = bt[i]\n",
    "    time_local = time.localtime(t)\n",
    "    abt.append(time.strftime(\"%Y-%m-%d %H:%M:%S\",time_local))"
   ]
  },
  {
   "cell_type": "code",
   "execution_count": 7,
   "metadata": {},
   "outputs": [],
   "source": [
    "df['abt'] = abt"
   ]
  },
  {
   "cell_type": "code",
   "execution_count": 8,
   "metadata": {},
   "outputs": [],
   "source": [
    "h = df.abt.tolist()\n",
    "hh = []\n",
    "for i in h:\n",
    "    hh.append(pd.Timestamp(i))#要換成time stamp的型態才可以rolling\n",
    "df.index = hh"
   ]
  },
  {
   "cell_type": "code",
   "execution_count": 9,
   "metadata": {},
   "outputs": [],
   "source": [
    "df['count'] =1"
   ]
  },
  {
   "cell_type": "markdown",
   "metadata": {},
   "source": [
    "# bacno , cano 排序下一定時間內的特定類別(國別)不同數量\n",
    "new3_x_bacno_cano_category_count"
   ]
  },
  {
   "cell_type": "code",
   "execution_count": 37,
   "metadata": {},
   "outputs": [],
   "source": [
    "# 訓練前要先轉好排列順序\n",
    "df_training_features = df.sort_values(by=['bacno' , 'cano'])"
   ]
  },
  {
   "cell_type": "code",
   "execution_count": null,
   "metadata": {},
   "outputs": [],
   "source": [
    "# stocn n天內該張卡號刷卡交易經歷了多少個國家\n",
    "#2d\n",
    "x = df.groupby(['bacno' , 'cano'])['stocn'].rolling('2d',\n",
    "                                   min_periods=1).apply(lambda x :len(np.unique(x)) )\n",
    "conam_x =x.tolist()\n",
    "df_training_features['bacno_cano_stocn_unique_2d'] =conam_x\n",
    "\n",
    "#6h\n",
    "x = df.groupby(['bacno','cano'])['stocn'].rolling('6h',\n",
    "                                    min_periods=1).apply(lambda x :len(np.unique(x)) )\n",
    "conam_x =x.tolist()\n",
    "df_training_features['bacno_cano_stocn_unique_6h'] =conam_x"
   ]
  },
  {
   "cell_type": "code",
   "execution_count": 44,
   "metadata": {
    "collapsed": true,
    "jupyter": {
     "outputs_hidden": true
    }
   },
   "outputs": [
    {
     "name": "stderr",
     "output_type": "stream",
     "text": [
      "C:\\Users\\User\\Anaconda3\\envs\\TK\\lib\\site-packages\\ipykernel_launcher.py:3: FutureWarning: Currently, 'apply' passes the values as ndarrays to the applied function. In the future, this will change to passing it as Series objects. You need to specify 'raw=True' to keep the current behaviour, and you can pass 'raw=False' to silence this warning\n",
      "  This is separate from the ipykernel package so we can avoid doing imports until\n",
      "C:\\Users\\User\\Anaconda3\\envs\\TK\\lib\\site-packages\\ipykernel_launcher.py:7: FutureWarning: Currently, 'apply' passes the values as ndarrays to the applied function. In the future, this will change to passing it as Series objects. You need to specify 'raw=True' to keep the current behaviour, and you can pass 'raw=False' to silence this warning\n",
      "  import sys\n"
     ]
    }
   ],
   "source": [
    "# mchno\n",
    "#2d\n",
    "x = df.groupby(['bacno' , 'cano'])['mchno'].rolling('2d',min_periods=1).apply(lambda x :len(np.unique(x)) )\n",
    "conam_x =x.tolist()\n",
    "df_training_features['bacno_cano_mchno_unique_2d'] =conam_x\n",
    "#6h\n",
    "x = df.groupby(['bacno','cano'])['mchno'].rolling('6h',min_periods=1).apply(lambda x :len(np.unique(x)) )\n",
    "conam_x =x.tolist()\n",
    "df_training_features['bacno_cano_mchno_unique_6h'] =conam_x"
   ]
  },
  {
   "cell_type": "code",
   "execution_count": 45,
   "metadata": {},
   "outputs": [
    {
     "name": "stderr",
     "output_type": "stream",
     "text": [
      "C:\\Users\\User\\Anaconda3\\envs\\TK\\lib\\site-packages\\ipykernel_launcher.py:3: FutureWarning: Currently, 'apply' passes the values as ndarrays to the applied function. In the future, this will change to passing it as Series objects. You need to specify 'raw=True' to keep the current behaviour, and you can pass 'raw=False' to silence this warning\n",
      "  This is separate from the ipykernel package so we can avoid doing imports until\n",
      "C:\\Users\\User\\Anaconda3\\envs\\TK\\lib\\site-packages\\ipykernel_launcher.py:7: FutureWarning: Currently, 'apply' passes the values as ndarrays to the applied function. In the future, this will change to passing it as Series objects. You need to specify 'raw=True' to keep the current behaviour, and you can pass 'raw=False' to silence this warning\n",
      "  import sys\n"
     ]
    }
   ],
   "source": [
    "#mcc\n",
    "#2d\n",
    "x = df.groupby(['bacno' , 'cano'])['mcc'].rolling('2d',min_periods=1).apply(lambda x :len(np.unique(x)) )\n",
    "conam_x =x.tolist()\n",
    "df_training_features['bacno_cano_mcc_unique_2d'] =conam_x\n",
    "#6h\n",
    "x = df.groupby(['bacno','cano'])['mcc'].rolling('6h',min_periods=1).apply(lambda x :len(np.unique(x)) )\n",
    "conam_x =x.tolist()\n",
    "df_training_features['bacno_cano_mcc_unique_6h'] =conam_x"
   ]
  },
  {
   "cell_type": "code",
   "execution_count": 46,
   "metadata": {},
   "outputs": [
    {
     "data": {
      "text/plain": [
       "Index(['acqic', 'bacno', 'cano', 'conam', 'contp', 'csmcu', 'ecfg', 'etymd',\n",
       "       'flbmk', 'flg_3dsmk', 'fraud_ind', 'hcefg', 'insfg', 'iterm', 'locdt',\n",
       "       'loctm', 'mcc', 'mchno', 'ovrlt', 'scity', 'stocn', 'stscd', 'txkey',\n",
       "       'days', 'global_time', 'last_time_days', 'next_time_days',\n",
       "       'cano_locdt_global_time_std', 'absolute_time', 'abt', 'count',\n",
       "       'bacno_cano_stocn_unique_2d', 'bacno_cano_stocn_unique_6h',\n",
       "       'bacno_cano_mchno_unique_2d', 'bacno_cano_mchno_unique_6h',\n",
       "       'bacno_cano_mcc_unique_2d', 'bacno_cano_mcc_unique_6h'],\n",
       "      dtype='object')"
      ]
     },
     "execution_count": 46,
     "metadata": {},
     "output_type": "execute_result"
    }
   ],
   "source": [
    "df_training_features.columns"
   ]
  },
  {
   "cell_type": "code",
   "execution_count": 47,
   "metadata": {},
   "outputs": [],
   "source": [
    "df_training_features[['txkey','bacno_cano_stocn_unique_2d', 'bacno_cano_stocn_unique_6h',\n",
    "       'bacno_cano_mchno_unique_2d', 'bacno_cano_mchno_unique_6h',\n",
    "       'bacno_cano_mcc_unique_2d', 'bacno_cano_mcc_unique_6h']].to_csv('new3_x_bacno_cano_category_count.csv')"
   ]
  },
  {
   "cell_type": "markdown",
   "metadata": {},
   "source": [
    "# bacno_cano排序下的金額與次數\n",
    "描繪消費者跟過去消費行為間的差距<br>\n",
    "new_x_bacno_cano_conam"
   ]
  },
  {
   "cell_type": "code",
   "execution_count": 73,
   "metadata": {},
   "outputs": [],
   "source": [
    "# 訓練前要先轉好排列順序\n",
    "df_training_features = df.sort_values(by=['bacno' , 'cano'])"
   ]
  },
  {
   "cell_type": "code",
   "execution_count": 74,
   "metadata": {},
   "outputs": [],
   "source": [
    "#1h\n",
    "x = df.groupby(['bacno' , 'cano'])['conam'].rolling('1h', min_periods=1).mean()\n",
    "y = df.groupby(['bacno' , 'cano'])['count'].rolling('1h', min_periods=1).sum()\n",
    "conam_x =x.tolist()\n",
    "count_y =y.tolist()\n",
    "df_training_features['bacno_cano_conam_mean_1h'] =conam_x\n",
    "df_training_features['bacno_cano_count_sum_1h'] =count_y"
   ]
  },
  {
   "cell_type": "code",
   "execution_count": 75,
   "metadata": {},
   "outputs": [],
   "source": [
    "#6h\n",
    "x = df.groupby(['bacno' , 'cano'])['conam'].rolling('6h', min_periods=1).mean()\n",
    "y = df.groupby(['bacno' , 'cano'])['count'].rolling('6h', min_periods=1).sum()\n",
    "\n",
    "conam_x =x.tolist()\n",
    "count_y =y.tolist()\n",
    "df_training_features['bacno_cano_conam_mean_6h'] =conam_x\n",
    "df_training_features['bacno_cano_count_sum_6h'] =count_y"
   ]
  },
  {
   "cell_type": "code",
   "execution_count": 76,
   "metadata": {},
   "outputs": [],
   "source": [
    "#1d\n",
    "x = df.groupby(['bacno' , 'cano'])['conam'].rolling('1d', min_periods=1).mean()\n",
    "y = df.groupby(['bacno' , 'cano'])['count'].rolling('1d', min_periods=1).sum()\n",
    "\n",
    "conam_x =x.tolist()\n",
    "count_y =y.tolist()\n",
    "df_training_features['bacno_cano_conam_mean_1d'] =conam_x\n",
    "df_training_features['bacno_cano_count_sum_1d'] =count_y"
   ]
  },
  {
   "cell_type": "code",
   "execution_count": 78,
   "metadata": {},
   "outputs": [],
   "source": [
    "#7d\n",
    "x = df.groupby(['bacno' , 'cano'])['conam'].rolling('7d', min_periods=1).mean()\n",
    "y = df.groupby(['bacno' , 'cano'])['count'].rolling('7d', min_periods=1).sum()\n",
    "\n",
    "conam_x =x.tolist()\n",
    "count_y =y.tolist()\n",
    "df_training_features['bacno_cano_conam_mean_7d'] =conam_x\n",
    "df_training_features['bacno_cano_count_sum_7d'] =count_y"
   ]
  },
  {
   "cell_type": "code",
   "execution_count": 77,
   "metadata": {},
   "outputs": [],
   "source": [
    "#30d\n",
    "x = df.groupby(['bacno' , 'cano'])['conam'].rolling('30d', min_periods=1).mean()\n",
    "y = df.groupby(['bacno' , 'cano'])['count'].rolling('30d', min_periods=1).sum()\n",
    "\n",
    "conam_x =x.tolist()\n",
    "count_y =y.tolist()\n",
    "df_training_features['bacno_cano_conam_mean_30d'] =conam_x\n",
    "df_training_features['bacno_cano_count_sum_30d'] =count_y"
   ]
  },
  {
   "cell_type": "code",
   "execution_count": 79,
   "metadata": {},
   "outputs": [],
   "source": [
    "#120d\n",
    "x = df.groupby(['bacno' , 'cano'])['conam'].rolling('120d', min_periods=1).mean()\n",
    "y = df.groupby(['bacno' , 'cano'])['count'].rolling('120d', min_periods=1).sum()\n",
    "\n",
    "conam_x =x.tolist()\n",
    "count_y =y.tolist()\n",
    "df_training_features['bacno_cano_conam_mean_120d'] =conam_x\n",
    "df_training_features['bacno_cano_count_sum_120d'] =count_y"
   ]
  },
  {
   "cell_type": "code",
   "execution_count": 87,
   "metadata": {},
   "outputs": [],
   "source": [
    "# 帳戶卡號的消費在不同時間的消費差距\n",
    "df_training_features['bacno_cano_conam_mean_1h_xg_conam']=df_training_features['conam']-df_training_features['bacno_cano_conam_mean_1h']\n",
    "df_training_features['bacno_cano_conam_mean_6h_xg_conam']=df_training_features['conam']-df_training_features['bacno_cano_conam_mean_6h']\n",
    "df_training_features['bacno_cano_conam_mean_1d_xg_conam']=df_training_features['conam']-df_training_features['bacno_cano_conam_mean_1d']\n",
    "df_training_features['bacno_cano_conam_mean_7d_xg_conam']=df_training_features['conam']-df_training_features['bacno_cano_conam_mean_7d']\n",
    "df_training_features['bacno_cano_conam_mean_30d_xg_conam']=df_training_features['conam']-df_training_features['bacno_cano_conam_mean_30d']\n",
    "df_training_features['bacno_cano_conam_mean_120d_xg_conam']=df_training_features['conam']-df_training_features['bacno_cano_conam_mean_120d']"
   ]
  },
  {
   "cell_type": "code",
   "execution_count": 92,
   "metadata": {},
   "outputs": [],
   "source": [
    "# 帳戶卡號的消費在不同時間的次數差距\n",
    "df_training_features['bacno_cano_count_sum_7d_xg_1h']=df_training_features['bacno_cano_count_sum_7d']-df_training_features['bacno_cano_count_sum_1h']\n",
    "df_training_features['bacno_cano_count_sum_1d_xg_1h']=df_training_features['bacno_cano_count_sum_1d']-df_training_features['bacno_cano_count_sum_1h']\n",
    "df_training_features['bacno_cano_count_sum_6h_xg_1h']=df_training_features['bacno_cano_count_sum_6h']-df_training_features['bacno_cano_count_sum_1h']\n"
   ]
  },
  {
   "cell_type": "code",
   "execution_count": 101,
   "metadata": {},
   "outputs": [],
   "source": [
    "# 帳戶卡號的消費在不同時間的金額比例\n",
    "df_training_features['bacno_cano_conam_mean_1h_div_conam']=df_training_features['conam']/(df_training_features['bacno_cano_conam_mean_1h']+0.00000001)\n",
    "df_training_features['bacno_cano_conam_mean_6h_div_conam']=df_training_features['conam']/(df_training_features['bacno_cano_conam_mean_6h']+0.00000001)\n",
    "df_training_features['bacno_cano_conam_mean_1d_div_conam']=df_training_features['conam']/(df_training_features['bacno_cano_conam_mean_1d']+0.00000001)\n",
    "df_training_features['bacno_cano_conam_mean_7d_div_conam']=df_training_features['conam']/(df_training_features['bacno_cano_conam_mean_7d']+0.00000001)\n",
    "df_training_features['bacno_cano_conam_mean_30d_div_conam']=df_training_features['conam']/(df_training_features['bacno_cano_conam_mean_30d']+0.00000001)\n",
    "df_training_features['bacno_cano_conam_mean_120d_div_conam']=df_training_features['conam']/(df_training_features['bacno_cano_conam_mean_120d']+0.00000001)\n"
   ]
  },
  {
   "cell_type": "code",
   "execution_count": 104,
   "metadata": {},
   "outputs": [],
   "source": [
    "# 增加新的特徵\n",
    "df_training_features[['txkey','bacno_cano_conam_mean_1h', 'bacno_cano_count_sum_1h',\n",
    "       'bacno_cano_conam_mean_6h', 'bacno_cano_count_sum_6h',\n",
    "       'bacno_cano_conam_mean_1d', 'bacno_cano_count_sum_1d',\n",
    "       'bacno_cano_conam_mean_30d', 'bacno_cano_count_sum_30d',\n",
    "       'bacno_cano_conam_mean_7d', 'bacno_cano_count_sum_7d',\n",
    "       'bacno_cano_conam_mean_120d', 'bacno_cano_count_sum_120d',\n",
    "       'bacno_cano_conam_mean_1h_xg_conam',\n",
    "       'bacno_cano_conam_mean_6h_xg_conam',\n",
    "       'bacno_cano_conam_mean_1d_xg_conam',\n",
    "       'bacno_cano_conam_mean_7d_xg_conam',\n",
    "       'bacno_cano_conam_mean_30d_xg_conam',\n",
    "       'bacno_cano_conam_mean_120d_xg_conam', 'bacno_cano_count_sum_7d_xg_1h',\n",
    "       'bacno_cano_count_sum_1d_xg_1h', 'bacno_cano_count_sum_6h_xg_1h',\n",
    "       'bacno_cano_conam_mean_1h_div_conam',\n",
    "       'bacno_cano_conam_mean_6h_div_conam',\n",
    "       'bacno_cano_conam_mean_1d_div_conam',\n",
    "       'bacno_cano_conam_mean_7d_div_conam',\n",
    "       'bacno_cano_conam_mean_30d_div_conam',\n",
    "       'bacno_cano_conam_mean_120d_div_conam']].to_csv('new_x_bacno_cano_conam.csv')"
   ]
  },
  {
   "cell_type": "markdown",
   "metadata": {},
   "source": [
    "# cano_mchno排序下的金額與次數\n",
    "new2_x_cano_mhcno_conam"
   ]
  },
  {
   "cell_type": "code",
   "execution_count": 13,
   "metadata": {},
   "outputs": [],
   "source": [
    "df_training_features = df.sort_values(by=['cano','mchno'])"
   ]
  },
  {
   "cell_type": "code",
   "execution_count": 14,
   "metadata": {},
   "outputs": [],
   "source": [
    "#1h\n",
    "x = df.groupby(['cano','mchno'])['conam'].rolling('1h', min_periods=1).mean()\n",
    "y = df.groupby(['cano','mchno'])['count'].rolling('1h', min_periods=1).sum()\n",
    "conam_x =x.tolist()\n",
    "count_y =y.tolist()\n",
    "df_training_features['cano_mhcno_conam_mean_1h'] =conam_x\n",
    "df_training_features['cano_mhcno_count_sum_1h'] =count_y"
   ]
  },
  {
   "cell_type": "code",
   "execution_count": 15,
   "metadata": {},
   "outputs": [],
   "source": [
    "#6h\n",
    "x = df.groupby(['cano','mchno'])['conam'].rolling('6h', min_periods=1).mean()\n",
    "y = df.groupby(['cano','mchno'])['count'].rolling('6h', min_periods=1).sum()\n",
    "conam_x =x.tolist()\n",
    "count_y =y.tolist()\n",
    "df_training_features['cano_mhcno_conam_mean_6h'] =conam_x\n",
    "df_training_features['cano_mhcno_count_sum_6h'] =count_y"
   ]
  },
  {
   "cell_type": "code",
   "execution_count": 16,
   "metadata": {},
   "outputs": [],
   "source": [
    "#1d\n",
    "x = df.groupby(['cano','mchno'])['conam'].rolling('1d', min_periods=1).mean() \n",
    "y = df.groupby(['cano','mchno'])['count'].rolling('1d', min_periods=1).sum() \n",
    "conam_x =x.tolist() \n",
    "count_y =y.tolist() \n",
    "df_training_features['cano_mhcno_conam_mean_1d'] = conam_x\n",
    "df_training_features['cano_mhcno_count_sum_1d']  = count_y"
   ]
  },
  {
   "cell_type": "code",
   "execution_count": 17,
   "metadata": {},
   "outputs": [],
   "source": [
    "#7d\n",
    "x = df.groupby(['cano','mchno'])['conam'].rolling('7d', min_periods=1).mean() \n",
    "y = df.groupby(['cano','mchno'])['count'].rolling('7d', min_periods=1).sum() \n",
    "conam_x =x.tolist() \n",
    "count_y =y.tolist() \n",
    "df_training_features['cano_mhcno_conam_mean_7d'] = conam_x\n",
    "df_training_features['cano_mhcno_count_sum_7d']  = count_y"
   ]
  },
  {
   "cell_type": "code",
   "execution_count": 18,
   "metadata": {},
   "outputs": [],
   "source": [
    "#30d\n",
    "x = df.groupby(['cano','mchno'])['conam'].rolling('30d', min_periods=1).mean() \n",
    "y = df.groupby(['cano','mchno'])['count'].rolling('30d', min_periods=1).sum() \n",
    "conam_x =x.tolist() \n",
    "count_y =y.tolist() \n",
    "df_training_features['cano_mhcno_conam_mean_30d'] = conam_x\n",
    "df_training_features['cano_mhcno_count_sum_30d']  = count_y"
   ]
  },
  {
   "cell_type": "code",
   "execution_count": 19,
   "metadata": {},
   "outputs": [],
   "source": [
    "#120d\n",
    "x = df.groupby(['cano','mchno'])['conam'].rolling('120d', min_periods=1).mean() \n",
    "y = df.groupby(['cano','mchno'])['count'].rolling('120d', min_periods=1).sum() \n",
    "conam_x =x.tolist() \n",
    "count_y =y.tolist() \n",
    "df_training_features['cano_mhcno_conam_mean_120d'] = conam_x\n",
    "df_training_features['cano_mhcno_count_sum_120d']  = count_y"
   ]
  },
  {
   "cell_type": "code",
   "execution_count": 20,
   "metadata": {},
   "outputs": [],
   "source": [
    "## 卡號特電的消費在不同時間的消費差距\n",
    "df_training_features['cano_mchno_conam_mean_1h_xg_conam']=df_training_features['conam']-df_training_features['cano_mhcno_conam_mean_1h']\n",
    "df_training_features['cano_mchno_conam_mean_6h_xg_conam']=df_training_features['conam']-df_training_features['cano_mhcno_conam_mean_6h']\n",
    "df_training_features['cano_mchno_conam_mean_1d_xg_conam']=df_training_features['conam']-df_training_features['cano_mhcno_conam_mean_1d']\n",
    "df_training_features['cano_mchno_conam_mean_7d_xg_conam']=df_training_features['conam']-df_training_features['cano_mhcno_conam_mean_7d']\n",
    "df_training_features['cano_mchno_conam_mean_30d_xg_conam']=df_training_features['conam']-df_training_features['cano_mhcno_conam_mean_30d']\n",
    "df_training_features['cano_mchno_conam_mean_120d_xg_conam']=df_training_features['conam']-df_training_features['cano_mhcno_conam_mean_120d']"
   ]
  },
  {
   "cell_type": "code",
   "execution_count": 21,
   "metadata": {},
   "outputs": [],
   "source": [
    "# 卡號特電的消費在不同時間的次數差距\n",
    "df_training_features['cano_mhcno_count_sum_7d_xg_1h']=df_training_features['cano_mhcno_count_sum_7d']-df_training_features['cano_mhcno_count_sum_1h']\n",
    "df_training_features['cano_mhcno_count_sum_1d_xg_1h']=df_training_features['cano_mhcno_count_sum_1d']-df_training_features['cano_mhcno_count_sum_1h']\n",
    "df_training_features['cano_mhcno_count_sum_6h_xg_1h']=df_training_features['cano_mhcno_count_sum_6h']-df_training_features['cano_mhcno_count_sum_1h']\n"
   ]
  },
  {
   "cell_type": "code",
   "execution_count": 22,
   "metadata": {},
   "outputs": [],
   "source": [
    "# 卡號特電的消費在不同時間的金額比例\n",
    "df_training_features['cano_mhcno_conam_mean_1h_div_conam']=df_training_features['conam']/(df_training_features['cano_mhcno_conam_mean_1h']+0.00000001)\n",
    "df_training_features['cano_mhcno_conam_mean_6h_div_conam']=df_training_features['conam']/(df_training_features['cano_mhcno_conam_mean_6h']+0.00000001)\n",
    "df_training_features['cano_mhcno_conam_mean_1d_div_conam']=df_training_features['conam']/(df_training_features['cano_mhcno_conam_mean_1d']+0.00000001)\n",
    "df_training_features['cano_mhcno_conam_mean_7d_div_conam']=df_training_features['conam']/(df_training_features['cano_mhcno_conam_mean_7d']+0.00000001)\n",
    "df_training_features['cano_mhcno_conam_mean_30d_div_conam']=df_training_features['conam']/(df_training_features['cano_mhcno_conam_mean_30d']+0.00000001)\n",
    "df_training_features['cano_mhcno_conam_mean_120d_div_conam']=df_training_features['conam']/(df_training_features['cano_mhcno_conam_mean_120d']+0.00000001)\n"
   ]
  },
  {
   "cell_type": "code",
   "execution_count": 24,
   "metadata": {},
   "outputs": [
    {
     "data": {
      "text/plain": [
       "Index(['acqic', 'bacno', 'cano', 'conam', 'contp', 'csmcu', 'ecfg', 'etymd',\n",
       "       'flbmk', 'flg_3dsmk', 'fraud_ind', 'hcefg', 'insfg', 'iterm', 'locdt',\n",
       "       'loctm', 'mcc', 'mchno', 'ovrlt', 'scity', 'stocn', 'stscd', 'txkey',\n",
       "       'days', 'global_time', 'last_time_days', 'next_time_days',\n",
       "       'cano_locdt_global_time_std', 'absolute_time', 'abt', 'count',\n",
       "       'cano_mhcno_conam_mean_1h', 'cano_mhcno_count_sum_1h',\n",
       "       'cano_mhcno_conam_mean_6h', 'cano_mhcno_count_sum_6h',\n",
       "       'cano_mhcno_conam_mean_1d', 'cano_mhcno_count_sum_1d',\n",
       "       'cano_mhcno_conam_mean_7d', 'cano_mhcno_count_sum_7d',\n",
       "       'cano_mhcno_conam_mean_30d', 'cano_mhcno_count_sum_30d',\n",
       "       'cano_mhcno_conam_mean_120d', 'cano_mhcno_count_sum_120d',\n",
       "       'cano_mchno_conam_mean_1h_xg_conam',\n",
       "       'cano_mchno_conam_mean_6h_xg_conam',\n",
       "       'cano_mchno_conam_mean_1d_xg_conam',\n",
       "       'cano_mchno_conam_mean_7d_xg_conam',\n",
       "       'cano_mchno_conam_mean_30d_xg_conam',\n",
       "       'cano_mchno_conam_mean_120d_xg_conam', 'cano_mhcno_count_sum_7d_xg_1h',\n",
       "       'cano_mhcno_count_sum_1d_xg_1h', 'cano_mhcno_count_sum_6h_xg_1h',\n",
       "       'cano_mhcno_conam_mean_1h_div_conam',\n",
       "       'cano_mhcno_conam_mean_6h_div_conam',\n",
       "       'cano_mhcno_conam_mean_1d_div_conam',\n",
       "       'cano_mhcno_conam_mean_7d_div_conam',\n",
       "       'cano_mhcno_conam_mean_30d_div_conam',\n",
       "       'cano_mhcno_conam_mean_120d_div_conam'],\n",
       "      dtype='object')"
      ]
     },
     "execution_count": 24,
     "metadata": {},
     "output_type": "execute_result"
    }
   ],
   "source": [
    "df_training_features.columns"
   ]
  },
  {
   "cell_type": "code",
   "execution_count": 25,
   "metadata": {},
   "outputs": [],
   "source": [
    "df_training_features[['txkey','cano_mhcno_conam_mean_1h', 'cano_mhcno_count_sum_1h',\n",
    "       'cano_mhcno_conam_mean_6h', 'cano_mhcno_count_sum_6h',\n",
    "       'cano_mhcno_conam_mean_1d', 'cano_mhcno_count_sum_1d',\n",
    "       'cano_mhcno_conam_mean_7d', 'cano_mhcno_count_sum_7d',\n",
    "       'cano_mhcno_conam_mean_30d', 'cano_mhcno_count_sum_30d',\n",
    "       'cano_mhcno_conam_mean_120d', 'cano_mhcno_count_sum_120d',\n",
    "       'cano_mchno_conam_mean_1h_xg_conam',\n",
    "       'cano_mchno_conam_mean_6h_xg_conam',\n",
    "       'cano_mchno_conam_mean_1d_xg_conam',\n",
    "       'cano_mchno_conam_mean_7d_xg_conam',\n",
    "       'cano_mchno_conam_mean_30d_xg_conam',\n",
    "       'cano_mchno_conam_mean_120d_xg_conam', 'cano_mhcno_count_sum_7d_xg_1h',\n",
    "       'cano_mhcno_count_sum_1d_xg_1h', 'cano_mhcno_count_sum_6h_xg_1h',\n",
    "       'cano_mhcno_conam_mean_1h_div_conam',\n",
    "       'cano_mhcno_conam_mean_6h_div_conam',\n",
    "       'cano_mhcno_conam_mean_1d_div_conam',\n",
    "       'cano_mhcno_conam_mean_7d_div_conam',\n",
    "       'cano_mhcno_conam_mean_30d_div_conam',\n",
    "       'cano_mhcno_conam_mean_120d_div_conam']].to_csv('new2_x_cano_mhcno_conam.csv')"
   ]
  },
  {
   "cell_type": "code",
   "execution_count": null,
   "metadata": {},
   "outputs": [],
   "source": []
  }
 ],
 "metadata": {
  "kernelspec": {
   "display_name": "Python 3 (ipykernel)",
   "language": "python",
   "name": "python3"
  },
  "language_info": {
   "codemirror_mode": {
    "name": "ipython",
    "version": 3
   },
   "file_extension": ".py",
   "mimetype": "text/x-python",
   "name": "python",
   "nbconvert_exporter": "python",
   "pygments_lexer": "ipython3",
   "version": "3.9.13"
  }
 },
 "nbformat": 4,
 "nbformat_minor": 4
}
